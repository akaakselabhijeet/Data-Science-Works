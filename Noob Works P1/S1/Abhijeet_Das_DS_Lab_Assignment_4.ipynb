{
  "nbformat": 4,
  "nbformat_minor": 0,
  "metadata": {
    "colab": {
      "name": "Abhijeet Das - DS - Lab Assignment 4.ipynb",
      "provenance": []
    },
    "kernelspec": {
      "name": "python3",
      "display_name": "Python 3"
    },
    "language_info": {
      "name": "python"
    }
  },
  "cells": [
    {
      "cell_type": "code",
      "metadata": {
        "id": "yXZr0zuo8rJU"
      },
      "source": [
        "#LAB Assignment 4 - Data Science\n",
        "#Date- 06.04.2021\n",
        "\n",
        "import numpy as np\n",
        "import pandas as pd"
      ],
      "execution_count": 31,
      "outputs": []
    },
    {
      "cell_type": "code",
      "metadata": {
        "colab": {
          "base_uri": "https://localhost:8080/"
        },
        "id": "PppTvUcz999U",
        "outputId": "eaf14f18-c292-4342-b27f-c035658d8160"
      },
      "source": [
        "#1 Np Array 1-12. In 3x4 Mat.\n",
        "a1 = np.arange(1,13)\n",
        "a1 = a1.reshape((3,4))\n",
        "print(a1)"
      ],
      "execution_count": 32,
      "outputs": [
        {
          "output_type": "stream",
          "text": [
            "[[ 1  2  3  4]\n",
            " [ 5  6  7  8]\n",
            " [ 9 10 11 12]]\n"
          ],
          "name": "stdout"
        }
      ]
    },
    {
      "cell_type": "code",
      "metadata": {
        "colab": {
          "base_uri": "https://localhost:8080/"
        },
        "id": "eEteg8dK-a6c",
        "outputId": "eabf0ffb-4d10-4162-8d15-75f1975aed37"
      },
      "source": [
        "#1 Np Array 13-24. In 3x4 Mat.\n",
        "a2 = np.arange(13,25)\n",
        "a2 = a2.reshape((3,4))\n",
        "print(a2)"
      ],
      "execution_count": 33,
      "outputs": [
        {
          "output_type": "stream",
          "text": [
            "[[13 14 15 16]\n",
            " [17 18 19 20]\n",
            " [21 22 23 24]]\n"
          ],
          "name": "stdout"
        }
      ]
    },
    {
      "cell_type": "code",
      "metadata": {
        "colab": {
          "base_uri": "https://localhost:8080/"
        },
        "id": "CRaTla7F-7mo",
        "outputId": "5a96d5b4-5afe-46be-a452-ef365a77784a"
      },
      "source": [
        "#Vstack/Hstack for a1, a2:\n",
        "np.vstack((a1, a2))"
      ],
      "execution_count": 34,
      "outputs": [
        {
          "output_type": "execute_result",
          "data": {
            "text/plain": [
              "array([[ 1,  2,  3,  4],\n",
              "       [ 5,  6,  7,  8],\n",
              "       [ 9, 10, 11, 12],\n",
              "       [13, 14, 15, 16],\n",
              "       [17, 18, 19, 20],\n",
              "       [21, 22, 23, 24]])"
            ]
          },
          "metadata": {
            "tags": []
          },
          "execution_count": 34
        }
      ]
    },
    {
      "cell_type": "code",
      "metadata": {
        "colab": {
          "base_uri": "https://localhost:8080/"
        },
        "id": "03JcdDAp_Ry8",
        "outputId": "fa63400f-47c7-4b18-e205-8205fba16d97"
      },
      "source": [
        "np.hstack((a1, a2))"
      ],
      "execution_count": 35,
      "outputs": [
        {
          "output_type": "execute_result",
          "data": {
            "text/plain": [
              "array([[ 1,  2,  3,  4, 13, 14, 15, 16],\n",
              "       [ 5,  6,  7,  8, 17, 18, 19, 20],\n",
              "       [ 9, 10, 11, 12, 21, 22, 23, 24]])"
            ]
          },
          "metadata": {
            "tags": []
          },
          "execution_count": 35
        }
      ]
    },
    {
      "cell_type": "code",
      "metadata": {
        "colab": {
          "base_uri": "https://localhost:8080/"
        },
        "id": "1vYGK16b_iLY",
        "outputId": "a890aac7-f64c-44f1-9a4f-ba39fb843b06"
      },
      "source": [
        "#Q4 ...\n",
        "\n",
        "a3 = np.copy(a1)[0]\n",
        "a4 = np.copy(a1)[1]\n",
        "a5 = np.copy(a1)[2]\n",
        "\n",
        "a3[0] = 99\n",
        "print(a1)\n",
        "print(a3)"
      ],
      "execution_count": 36,
      "outputs": [
        {
          "output_type": "stream",
          "text": [
            "[[ 1  2  3  4]\n",
            " [ 5  6  7  8]\n",
            " [ 9 10 11 12]]\n",
            "[99  2  3  4]\n"
          ],
          "name": "stdout"
        }
      ]
    },
    {
      "cell_type": "code",
      "metadata": {
        "colab": {
          "base_uri": "https://localhost:8080/"
        },
        "id": "9PYBwcwGBUzU",
        "outputId": "a2db31f0-2342-47c5-8974-4a5eb7733880"
      },
      "source": [
        "#Q5 ...\n",
        "\n",
        "print(\"Max element in a2: {}\\n\".format(np.max(a2)))\n",
        "print(\"Min element in a2: {}\\n\".format(np.min(a2)))\n",
        "print(\"Max element in a2: {}\\n\".format(a2.transpose()))"
      ],
      "execution_count": 37,
      "outputs": [
        {
          "output_type": "stream",
          "text": [
            "Max element in a2: 24\n",
            "\n",
            "Min element in a2: 13\n",
            "\n",
            "Max element in a2: [[13 17 21]\n",
            " [14 18 22]\n",
            " [15 19 23]\n",
            " [16 20 24]]\n",
            "\n"
          ],
          "name": "stdout"
        }
      ]
    },
    {
      "cell_type": "code",
      "metadata": {
        "colab": {
          "base_uri": "https://localhost:8080/"
        },
        "id": "RriOhXBkCJ4M",
        "outputId": "035651c0-7a49-476f-ac0f-9555b13dc102"
      },
      "source": [
        "#Q6 ...\n",
        "\n",
        "np.add(a1,a2)"
      ],
      "execution_count": 38,
      "outputs": [
        {
          "output_type": "execute_result",
          "data": {
            "text/plain": [
              "array([[14, 16, 18, 20],\n",
              "       [22, 24, 26, 28],\n",
              "       [30, 32, 34, 36]])"
            ]
          },
          "metadata": {
            "tags": []
          },
          "execution_count": 38
        }
      ]
    },
    {
      "cell_type": "code",
      "metadata": {
        "id": "QkF2FbZ-DDJ0",
        "colab": {
          "base_uri": "https://localhost:8080/"
        },
        "outputId": "a1d125b9-234f-4b1a-8e56-6bd3a7563240"
      },
      "source": [
        "#Q7 / Q8\n",
        "\n",
        "url = \"https://raw.githubusercontent.com/akaakselabhijeet/Data-Science-Datasets-Ver.01/main/India_Data/India%20Election%20Dataset%201.csv\"\n",
        "df = pd.read_csv(url)\n",
        "print(df.head(10))\n"
      ],
      "execution_count": 40,
      "outputs": [
        {
          "output_type": "stream",
          "text": [
            "           State Constituency  ... VotePercent  TotalElectors\n",
            "0      Telangana     ADILABAD  ...   35.468248        1489790\n",
            "1      Telangana     ADILABAD  ...   29.964370        1489790\n",
            "2      Telangana     ADILABAD  ...   29.534285        1489790\n",
            "3      Telangana     ADILABAD  ...    1.225214        1489790\n",
            "4  Uttar Pradesh         AGRA  ...   56.464615        1937690\n",
            "5  Uttar Pradesh         AGRA  ...   37.999125        1937690\n",
            "6  Uttar Pradesh         AGRA  ...    3.940979        1937690\n",
            "7    Maharashtra   AHMADNAGAR  ...   58.425159        1861396\n",
            "8    Maharashtra   AHMADNAGAR  ...   35.087431        1861396\n",
            "9    Maharashtra   AHMADNAGAR  ...    2.637200        1861396\n",
            "\n",
            "[10 rows x 19 columns]\n"
          ],
          "name": "stdout"
        }
      ]
    },
    {
      "cell_type": "code",
      "metadata": {
        "id": "qR1dOSgYDSzY",
        "colab": {
          "base_uri": "https://localhost:8080/"
        },
        "outputId": "a0cfc64a-7c45-4f8e-956d-2094fb42ebab"
      },
      "source": [
        "print(df.tail(10))"
      ],
      "execution_count": 41,
      "outputs": [
        {
          "output_type": "stream",
          "text": [
            "            State     Constituency  ... VotePercent  TotalElectors\n",
            "2253  Maharashtra  YAVATMAL-WASHIM  ...   46.142912        1916185\n",
            "2254  Maharashtra  YAVATMAL-WASHIM  ...   36.104046        1916185\n",
            "2255  Maharashtra  YAVATMAL-WASHIM  ...    8.020606        1916185\n",
            "2256  Maharashtra  YAVATMAL-WASHIM  ...    2.085334        1916185\n",
            "2257  Maharashtra  YAVATMAL-WASHIM  ...    1.755157        1916185\n",
            "2258  Maharashtra  YAVATMAL-WASHIM  ...    1.250060        1916185\n",
            "2259    Telangana        ZAHIRABAD  ...   41.574183        1498666\n",
            "2260    Telangana        ZAHIRABAD  ...   40.977823        1498666\n",
            "2261    Telangana        ZAHIRABAD  ...   13.302678        1498666\n",
            "2262    Telangana        ZAHIRABAD  ...    1.066535        1498666\n",
            "\n",
            "[10 rows x 19 columns]\n"
          ],
          "name": "stdout"
        }
      ]
    },
    {
      "cell_type": "code",
      "metadata": {
        "id": "FGWV8y5hGsPA",
        "colab": {
          "base_uri": "https://localhost:8080/"
        },
        "outputId": "c5df8d47-d62b-40f5-b306-a3f6e7d4e9f9"
      },
      "source": [
        "#Q9\n",
        "\n",
        "df = df.sort_values('Age')\n",
        "print(df.head(20))"
      ],
      "execution_count": 42,
      "outputs": [
        {
          "output_type": "stream",
          "text": [
            "               State     Constituency  ... VotePercent  TotalElectors\n",
            "1789     West Bengal         RANAGHAT  ...   37.030315        1762252\n",
            "1952       Jharkhand        SINGHBHUM  ...    1.284570        1269917\n",
            "1132          Odisha         KEONJHAR  ...   44.740195        1516688\n",
            "1848           Bihar  SAMASTIPUR (SC)  ...    1.384036        1679030\n",
            "681     Chhattisgarh             DURG  ...    1.444943        1940269\n",
            "1502      Tamil Nadu     NAGAPATTINAM  ...    5.129821        1303649\n",
            "2186           Bihar         VAISHALI  ...    2.558453        1735983\n",
            "138   Andhra Pradesh            ARUKU  ...   52.139840        1451418\n",
            "269        Rajasthan         BANSWARA  ...    1.029228        1975368\n",
            "880          Haryana            HISAR  ...   15.599664        1631817\n",
            "1281       Jharkhand        LOHARDAGA  ...    1.178322        1234286\n",
            "2028           Bihar           SUPAUL  ...    1.828989        1690620\n",
            "1192           Assam        KOKRAJHAR  ...    1.900869        1776358\n",
            "514       Tamil Nadu    CHENNAI SOUTH  ...    4.458863        1973533\n",
            "1254         Haryana      KURUKSHETRA  ...    4.928584        1657335\n",
            "1061      Tamil Nadu     KANCHEEPURAM  ...    5.069708        1643992\n",
            "1972      Tamil Nadu        SIVAGANGA  ...    6.658641        1552019\n",
            "767            Bihar        GAYA (SC)  ...    1.519651        1704596\n",
            "1221          Odisha          KORAPUT  ...    1.464556        1434384\n",
            "1143           Bihar         KHAGARIA  ...    2.113786        1676454\n",
            "\n",
            "[20 rows x 19 columns]\n"
          ],
          "name": "stdout"
        }
      ]
    },
    {
      "cell_type": "code",
      "metadata": {
        "colab": {
          "base_uri": "https://localhost:8080/",
          "height": 300
        },
        "id": "XlPTiL55QnSw",
        "outputId": "06ca50cd-f09e-44fb-9a16-dba433fc0ba3"
      },
      "source": [
        "#Q10 Print the data stats\n",
        "\n",
        "df.describe()"
      ],
      "execution_count": 43,
      "outputs": [
        {
          "output_type": "execute_result",
          "data": {
            "text/html": [
              "<div>\n",
              "<style scoped>\n",
              "    .dataframe tbody tr th:only-of-type {\n",
              "        vertical-align: middle;\n",
              "    }\n",
              "\n",
              "    .dataframe tbody tr th {\n",
              "        vertical-align: top;\n",
              "    }\n",
              "\n",
              "    .dataframe thead th {\n",
              "        text-align: right;\n",
              "    }\n",
              "</style>\n",
              "<table border=\"1\" class=\"dataframe\">\n",
              "  <thead>\n",
              "    <tr style=\"text-align: right;\">\n",
              "      <th></th>\n",
              "      <th>Winner</th>\n",
              "      <th>Age</th>\n",
              "      <th>GenVotes</th>\n",
              "      <th>PostalVotes</th>\n",
              "      <th>TotalVotes</th>\n",
              "      <th>ElectorsPercent</th>\n",
              "      <th>VotePercent</th>\n",
              "      <th>TotalElectors</th>\n",
              "    </tr>\n",
              "  </thead>\n",
              "  <tbody>\n",
              "    <tr>\n",
              "      <th>count</th>\n",
              "      <td>2263.000000</td>\n",
              "      <td>2018.000000</td>\n",
              "      <td>2.263000e+03</td>\n",
              "      <td>2263.000000</td>\n",
              "      <td>2.263000e+03</td>\n",
              "      <td>2263.000000</td>\n",
              "      <td>2263.000000</td>\n",
              "      <td>2.263000e+03</td>\n",
              "    </tr>\n",
              "    <tr>\n",
              "      <th>mean</th>\n",
              "      <td>0.238179</td>\n",
              "      <td>52.273538</td>\n",
              "      <td>2.615991e+05</td>\n",
              "      <td>990.710561</td>\n",
              "      <td>2.625898e+05</td>\n",
              "      <td>15.811412</td>\n",
              "      <td>23.190525</td>\n",
              "      <td>1.658016e+06</td>\n",
              "    </tr>\n",
              "    <tr>\n",
              "      <th>std</th>\n",
              "      <td>0.426064</td>\n",
              "      <td>11.869373</td>\n",
              "      <td>2.549906e+05</td>\n",
              "      <td>1602.839174</td>\n",
              "      <td>2.559822e+05</td>\n",
              "      <td>14.962861</td>\n",
              "      <td>21.564758</td>\n",
              "      <td>3.145187e+05</td>\n",
              "    </tr>\n",
              "    <tr>\n",
              "      <th>min</th>\n",
              "      <td>0.000000</td>\n",
              "      <td>25.000000</td>\n",
              "      <td>1.339000e+03</td>\n",
              "      <td>0.000000</td>\n",
              "      <td>1.342000e+03</td>\n",
              "      <td>0.097941</td>\n",
              "      <td>1.000039</td>\n",
              "      <td>5.518900e+04</td>\n",
              "    </tr>\n",
              "    <tr>\n",
              "      <th>25%</th>\n",
              "      <td>0.000000</td>\n",
              "      <td>43.250000</td>\n",
              "      <td>2.103450e+04</td>\n",
              "      <td>57.000000</td>\n",
              "      <td>2.116250e+04</td>\n",
              "      <td>1.296518</td>\n",
              "      <td>1.899502</td>\n",
              "      <td>1.530014e+06</td>\n",
              "    </tr>\n",
              "    <tr>\n",
              "      <th>50%</th>\n",
              "      <td>0.000000</td>\n",
              "      <td>52.000000</td>\n",
              "      <td>1.539340e+05</td>\n",
              "      <td>316.000000</td>\n",
              "      <td>1.544890e+05</td>\n",
              "      <td>10.510553</td>\n",
              "      <td>16.221721</td>\n",
              "      <td>1.679030e+06</td>\n",
              "    </tr>\n",
              "    <tr>\n",
              "      <th>75%</th>\n",
              "      <td>0.000000</td>\n",
              "      <td>61.000000</td>\n",
              "      <td>4.858040e+05</td>\n",
              "      <td>1385.000000</td>\n",
              "      <td>4.872315e+05</td>\n",
              "      <td>29.468185</td>\n",
              "      <td>42.590233</td>\n",
              "      <td>1.816857e+06</td>\n",
              "    </tr>\n",
              "    <tr>\n",
              "      <th>max</th>\n",
              "      <td>1.000000</td>\n",
              "      <td>86.000000</td>\n",
              "      <td>1.066824e+06</td>\n",
              "      <td>19367.000000</td>\n",
              "      <td>1.068569e+06</td>\n",
              "      <td>51.951012</td>\n",
              "      <td>74.411856</td>\n",
              "      <td>3.150313e+06</td>\n",
              "    </tr>\n",
              "  </tbody>\n",
              "</table>\n",
              "</div>"
            ],
            "text/plain": [
              "            Winner          Age  ...  VotePercent  TotalElectors\n",
              "count  2263.000000  2018.000000  ...  2263.000000   2.263000e+03\n",
              "mean      0.238179    52.273538  ...    23.190525   1.658016e+06\n",
              "std       0.426064    11.869373  ...    21.564758   3.145187e+05\n",
              "min       0.000000    25.000000  ...     1.000039   5.518900e+04\n",
              "25%       0.000000    43.250000  ...     1.899502   1.530014e+06\n",
              "50%       0.000000    52.000000  ...    16.221721   1.679030e+06\n",
              "75%       0.000000    61.000000  ...    42.590233   1.816857e+06\n",
              "max       1.000000    86.000000  ...    74.411856   3.150313e+06\n",
              "\n",
              "[8 rows x 8 columns]"
            ]
          },
          "metadata": {
            "tags": []
          },
          "execution_count": 43
        }
      ]
    },
    {
      "cell_type": "code",
      "metadata": {
        "colab": {
          "base_uri": "https://localhost:8080/"
        },
        "id": "IiSoj-oxRDyM",
        "outputId": "f6171870-dcd7-4ca6-ff09-a27a2fd2b4b9"
      },
      "source": [
        "#Q11\n",
        "\n",
        "df2 = df[df['Age']>60]\n",
        "print(df2)"
      ],
      "execution_count": 44,
      "outputs": [
        {
          "output_type": "stream",
          "text": [
            "                State     Constituency  ... VotePercent  TotalElectors\n",
            "300       West Bengal  BARDHAMAN PURBA  ...   38.310770        1698089\n",
            "299       West Bengal  BARDHAMAN PURBA  ...   44.514634        1698089\n",
            "1218           Odisha          KORAPUT  ...    3.309431        1434384\n",
            "1544      Maharashtra        NANDURBAR  ...   42.311213        1871099\n",
            "1970       Tamil Nadu        SIVAGANGA  ...   21.555785        1552019\n",
            "...               ...              ...  ...         ...            ...\n",
            "797         Jharkhand            GODDA  ...    1.377829        1716766\n",
            "939            Punjab        JALANDHAR  ...   35.925046        1617018\n",
            "2006  Jammu & Kashmir         SRINAGAR  ...   57.127414        1294671\n",
            "1855    Uttar Pradesh          SAMBHAL  ...   55.584784        1828764\n",
            "2137        Karnataka           TUMKUR  ...   46.792654        1608545\n",
            "\n",
            "[554 rows x 19 columns]\n"
          ],
          "name": "stdout"
        }
      ]
    },
    {
      "cell_type": "code",
      "metadata": {
        "colab": {
          "base_uri": "https://localhost:8080/",
          "height": 206
        },
        "id": "YnUDWJIqRbig",
        "outputId": "b1db22f2-7694-4448-f4de-cb189cdb250d"
      },
      "source": [
        "#Q12\n",
        "\n",
        "df1 = df[['Age', 'Gender']]\n",
        "df1.head(5)"
      ],
      "execution_count": 45,
      "outputs": [
        {
          "output_type": "execute_result",
          "data": {
            "text/html": [
              "<div>\n",
              "<style scoped>\n",
              "    .dataframe tbody tr th:only-of-type {\n",
              "        vertical-align: middle;\n",
              "    }\n",
              "\n",
              "    .dataframe tbody tr th {\n",
              "        vertical-align: top;\n",
              "    }\n",
              "\n",
              "    .dataframe thead th {\n",
              "        text-align: right;\n",
              "    }\n",
              "</style>\n",
              "<table border=\"1\" class=\"dataframe\">\n",
              "  <thead>\n",
              "    <tr style=\"text-align: right;\">\n",
              "      <th></th>\n",
              "      <th>Age</th>\n",
              "      <th>Gender</th>\n",
              "    </tr>\n",
              "  </thead>\n",
              "  <tbody>\n",
              "    <tr>\n",
              "      <th>1789</th>\n",
              "      <td>25.0</td>\n",
              "      <td>FEMALE</td>\n",
              "    </tr>\n",
              "    <tr>\n",
              "      <th>1952</th>\n",
              "      <td>25.0</td>\n",
              "      <td>MALE</td>\n",
              "    </tr>\n",
              "    <tr>\n",
              "      <th>1132</th>\n",
              "      <td>25.0</td>\n",
              "      <td>FEMALE</td>\n",
              "    </tr>\n",
              "    <tr>\n",
              "      <th>1848</th>\n",
              "      <td>25.0</td>\n",
              "      <td>FEMALE</td>\n",
              "    </tr>\n",
              "    <tr>\n",
              "      <th>681</th>\n",
              "      <td>25.0</td>\n",
              "      <td>FEMALE</td>\n",
              "    </tr>\n",
              "  </tbody>\n",
              "</table>\n",
              "</div>"
            ],
            "text/plain": [
              "       Age  Gender\n",
              "1789  25.0  FEMALE\n",
              "1952  25.0    MALE\n",
              "1132  25.0  FEMALE\n",
              "1848  25.0  FEMALE\n",
              "681   25.0  FEMALE"
            ]
          },
          "metadata": {
            "tags": []
          },
          "execution_count": 45
        }
      ]
    },
    {
      "cell_type": "code",
      "metadata": {
        "id": "L5SoTcXRRw80"
      },
      "source": [
        "#THE END"
      ],
      "execution_count": null,
      "outputs": []
    }
  ]
}