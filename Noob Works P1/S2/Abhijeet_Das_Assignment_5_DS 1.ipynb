{
  "nbformat": 4,
  "nbformat_minor": 0,
  "metadata": {
    "colab": {
      "name": "Abhijeet Das - Assignment 5 - DS.ipynb",
      "provenance": []
    },
    "kernelspec": {
      "name": "python3",
      "display_name": "Python 3"
    },
    "language_info": {
      "name": "python"
    }
  },
  "cells": [
    {
      "cell_type": "code",
      "metadata": {
        "id": "T6S5ruy40l1k"
      },
      "source": [
        "'''\n",
        "Abhijeet Das/A5/DS\n",
        "DT: 12.04.2021\n",
        "'''\n",
        "\n",
        "import pandas as pd\n",
        "import matplotlib.pyplot as plt\n",
        "import numpy as np"
      ],
      "execution_count": null,
      "outputs": []
    },
    {
      "cell_type": "code",
      "metadata": {
        "id": "6MLXKAcm2Qbc"
      },
      "source": [
        "#Import dataset\n",
        "\n",
        "url = \"https://raw.githubusercontent.com/akaakselabhijeet/Data-Science-Datasets-Ver.01/main/India_Data/India%20Election%20Dataset%201.csv\"\n",
        "df = pd.read_csv(url)"
      ],
      "execution_count": null,
      "outputs": []
    },
    {
      "cell_type": "code",
      "metadata": {
        "colab": {
          "base_uri": "https://localhost:8080/"
        },
        "id": "GXUgCQaU21UY",
        "outputId": "58caac74-0c8f-4435-8e22-24a2e43972b5"
      },
      "source": [
        "#Verify it\n",
        "\n",
        "print(df.head(5))"
      ],
      "execution_count": null,
      "outputs": [
        {
          "output_type": "stream",
          "text": [
            "           State Constituency  ... VotePercent  TotalElectors\n",
            "0      Telangana     ADILABAD  ...   35.468248        1489790\n",
            "1      Telangana     ADILABAD  ...   29.964370        1489790\n",
            "2      Telangana     ADILABAD  ...   29.534285        1489790\n",
            "3      Telangana     ADILABAD  ...    1.225214        1489790\n",
            "4  Uttar Pradesh         AGRA  ...   56.464615        1937690\n",
            "\n",
            "[5 rows x 19 columns]\n"
          ],
          "name": "stdout"
        }
      ]
    },
    {
      "cell_type": "code",
      "metadata": {
        "id": "IAiH_c1U3Cn8"
      },
      "source": [
        "#Histogram for 'TotalVotes' Col\n",
        "\n",
        "df['TotalVotes'].plot.hist()"
      ],
      "execution_count": null,
      "outputs": []
    },
    {
      "cell_type": "code",
      "metadata": {
        "id": "twtBHZL33RRc"
      },
      "source": [
        "#Scatter plot: 'Age' vs 'TotalVotes'\n",
        "\n",
        "df.plot.scatter(x='Age', y='TotalVotes', title='Age vs TotalVotes')"
      ],
      "execution_count": null,
      "outputs": []
    },
    {
      "cell_type": "code",
      "metadata": {
        "id": "IiUY1Suz3eSQ"
      },
      "source": [
        "#Bar plot for category column sorted by its values\n",
        "\n",
        "df['Category'].value_counts().sort_index().plot.bar()"
      ],
      "execution_count": null,
      "outputs": []
    },
    {
      "cell_type": "code",
      "metadata": {
        "colab": {
          "base_uri": "https://localhost:8080/"
        },
        "id": "CE7bAsX73uGw",
        "outputId": "fd47dd33-f157-4776-ccbe-a3a757fac92f"
      },
      "source": [
        "#Simple square plots\n",
        "\n",
        "x = np.arange(1, 7)\n",
        "print(x)"
      ],
      "execution_count": null,
      "outputs": [
        {
          "output_type": "stream",
          "text": [
            "[1 2 3 4 5 6]\n"
          ],
          "name": "stdout"
        }
      ]
    },
    {
      "cell_type": "code",
      "metadata": {
        "id": "f_93v8194A1M"
      },
      "source": [
        "plt.plot(x, x**2)\n",
        "plt.show()"
      ],
      "execution_count": null,
      "outputs": []
    },
    {
      "cell_type": "code",
      "metadata": {
        "id": "nyExgiVP4HeM"
      },
      "source": [
        "plt.scatter(x, x**2)"
      ],
      "execution_count": null,
      "outputs": []
    },
    {
      "cell_type": "code",
      "metadata": {
        "id": "5B_Lhoeo4RPM"
      },
      "source": [
        "#THE END"
      ],
      "execution_count": null,
      "outputs": []
    },
    {
      "cell_type": "code",
      "metadata": {
        "id": "8TpLZUky6A7o"
      },
      "source": [
        ""
      ],
      "execution_count": null,
      "outputs": []
    }
  ]
}