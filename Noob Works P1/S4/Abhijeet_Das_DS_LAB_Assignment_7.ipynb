{
  "nbformat": 4,
  "nbformat_minor": 0,
  "metadata": {
    "colab": {
      "name": "Abhijeet Das - DS Assignment 7.ipynb",
      "provenance": [],
      "collapsed_sections": []
    },
    "kernelspec": {
      "name": "python3",
      "display_name": "Python 3"
    },
    "language_info": {
      "name": "python"
    }
  },
  "cells": [
    {
      "cell_type": "code",
      "metadata": {
        "id": "VENrYV-a6dIc"
      },
      "source": [
        "# ABHIJEET DAS\n",
        "# DATA SCIENCE ASSIGNMENT 7\n",
        "# APRIL 29, 2021\n",
        "\n",
        "import pandas as pd\n",
        "import numpy as np\n",
        "import matplotlib.pyplot as plt\n",
        "from sklearn.impute import SimpleImputer\n",
        "from sklearn.preprocessing import PolynomialFeatures\n",
        "from sklearn.impute import MissingIndicator\n",
        "from sklearn.preprocessing import OrdinalEncoder\n",
        "from sklearn.preprocessing import OneHotEncoder"
      ],
      "execution_count": 304,
      "outputs": []
    },
    {
      "cell_type": "code",
      "metadata": {
        "colab": {
          "base_uri": "https://localhost:8080/"
        },
        "id": "TFqS5zDI9cwg",
        "outputId": "c4d648f1-9185-4467-f96b-070904afdbca"
      },
      "source": [
        "# import dataset\n",
        "# for dataset, check my repo\n",
        "\n",
        "url = \"https://raw.githubusercontent.com/akaakselabhijeet/Data-Science-Datasets-Ver.01/main/India_Data/India%20Election%20Dataset%201.csv\"\n",
        "ls = pd.read_csv(url)\n",
        "print(ls.head(5))"
      ],
      "execution_count": 305,
      "outputs": [
        {
          "output_type": "stream",
          "text": [
            "           State Constituency  ... VotePercent  TotalElectors\n",
            "0      Telangana     ADILABAD  ...   35.468248        1489790\n",
            "1      Telangana     ADILABAD  ...   29.964370        1489790\n",
            "2      Telangana     ADILABAD  ...   29.534285        1489790\n",
            "3      Telangana     ADILABAD  ...    1.225214        1489790\n",
            "4  Uttar Pradesh         AGRA  ...   56.464615        1937690\n",
            "\n",
            "[5 rows x 19 columns]\n"
          ],
          "name": "stdout"
        }
      ]
    },
    {
      "cell_type": "code",
      "metadata": {
        "colab": {
          "base_uri": "https://localhost:8080/"
        },
        "id": "jmOpOW0R-MiU",
        "outputId": "b2f95f72-475e-4940-e330-d9f7afaaa6c3"
      },
      "source": [
        "#Cloning dataframe\n",
        "\n",
        "ls1 = ls.copy()\n",
        "ls2 = ls.copy()\n",
        "ls3 = ls.copy()\n",
        "\n",
        "print(ls3.head(5))"
      ],
      "execution_count": 306,
      "outputs": [
        {
          "output_type": "stream",
          "text": [
            "           State Constituency  ... VotePercent  TotalElectors\n",
            "0      Telangana     ADILABAD  ...   35.468248        1489790\n",
            "1      Telangana     ADILABAD  ...   29.964370        1489790\n",
            "2      Telangana     ADILABAD  ...   29.534285        1489790\n",
            "3      Telangana     ADILABAD  ...    1.225214        1489790\n",
            "4  Uttar Pradesh         AGRA  ...   56.464615        1937690\n",
            "\n",
            "[5 rows x 19 columns]\n"
          ],
          "name": "stdout"
        }
      ]
    },
    {
      "cell_type": "code",
      "metadata": {
        "colab": {
          "base_uri": "https://localhost:8080/"
        },
        "id": "NlbeDpOh-lj4",
        "outputId": "30e78f1a-a8a4-4b5c-94f3-605aea6fae82"
      },
      "source": [
        "#Drop null valued columns\n",
        "\n",
        "ls1 = ls1.dropna(axis=1)\n",
        "print(ls1.head(5))"
      ],
      "execution_count": 307,
      "outputs": [
        {
          "output_type": "stream",
          "text": [
            "           State Constituency  ... VotePercent  TotalElectors\n",
            "0      Telangana     ADILABAD  ...   35.468248        1489790\n",
            "1      Telangana     ADILABAD  ...   29.964370        1489790\n",
            "2      Telangana     ADILABAD  ...   29.534285        1489790\n",
            "3      Telangana     ADILABAD  ...    1.225214        1489790\n",
            "4  Uttar Pradesh         AGRA  ...   56.464615        1937690\n",
            "\n",
            "[5 rows x 11 columns]\n"
          ],
          "name": "stdout"
        }
      ]
    },
    {
      "cell_type": "code",
      "metadata": {
        "colab": {
          "base_uri": "https://localhost:8080/"
        },
        "id": "pg7C7IToAYEA",
        "outputId": "dc2688b1-9e12-4b9a-ad71-0136655cd0ee"
      },
      "source": [
        "#Drop null valued rows\n",
        "\n",
        "ls2 = ls2.dropna(axis=0)\n",
        "print(ls2.head(5))"
      ],
      "execution_count": 308,
      "outputs": [
        {
          "output_type": "stream",
          "text": [
            "           State Constituency  ... VotePercent  TotalElectors\n",
            "0      Telangana     ADILABAD  ...   35.468248        1489790\n",
            "1      Telangana     ADILABAD  ...   29.964370        1489790\n",
            "2      Telangana     ADILABAD  ...   29.534285        1489790\n",
            "4  Uttar Pradesh         AGRA  ...   56.464615        1937690\n",
            "5  Uttar Pradesh         AGRA  ...   37.999125        1937690\n",
            "\n",
            "[5 rows x 19 columns]\n"
          ],
          "name": "stdout"
        }
      ]
    },
    {
      "cell_type": "code",
      "metadata": {
        "colab": {
          "base_uri": "https://localhost:8080/"
        },
        "id": "1LcF3xOcAnXs",
        "outputId": "0c43a5a9-76e7-4adb-c59d-1692e95ed8c8"
      },
      "source": [
        "# iterating over the columns\n",
        "\n",
        "for col in ls3.columns:\n",
        "    print(col)"
      ],
      "execution_count": 309,
      "outputs": [
        {
          "output_type": "stream",
          "text": [
            "State\n",
            "Constituency\n",
            "Name\n",
            "Winner\n",
            "Party\n",
            "Symbol\n",
            "Gender\n",
            "CriminalCases\n",
            "Age\n",
            "Category\n",
            "Education\n",
            "Assets\n",
            "Liabilities\n",
            "GenVotes\n",
            "PostalVotes\n",
            "TotalVotes\n",
            "ElectorsPercent\n",
            "VotePercent\n",
            "TotalElectors\n"
          ],
          "name": "stdout"
        }
      ]
    },
    {
      "cell_type": "code",
      "metadata": {
        "colab": {
          "base_uri": "https://localhost:8080/"
        },
        "id": "MQnSnZpwBvH4",
        "outputId": "69345121-79bf-4dd9-fd39-ad2ef4b4f4b8"
      },
      "source": [
        "#finding mean values\n",
        "\n",
        "ls4 = ls\n",
        "mn = ls4['Age'].mean()\n",
        "print(\"Mean Age Value: \",mn)\n",
        "print(\"\\n\")\n",
        "\n",
        "# fill NaN values with column mean\n",
        "\n",
        "ls3['Age'].fillna(value=mn, inplace=True)\n",
        "print(ls3['Age'].head(5))"
      ],
      "execution_count": 312,
      "outputs": [
        {
          "output_type": "stream",
          "text": [
            "Mean Age Value:  52.27353815659068\n",
            "\n",
            "\n",
            "0    52.000000\n",
            "1    54.000000\n",
            "2    52.000000\n",
            "3    52.273538\n",
            "4    58.000000\n",
            "Name: Age, dtype: float64\n"
          ],
          "name": "stdout"
        }
      ]
    },
    {
      "cell_type": "code",
      "metadata": {
        "colab": {
          "base_uri": "https://localhost:8080/"
        },
        "id": "M0obZVa1CmhM",
        "outputId": "212cd6c1-d903-4227-cba7-066b5e70599e"
      },
      "source": [
        "#cloning with selected cols\n",
        "\n",
        "ls5 = ls[['Age','TotalVotes','PostalVotes']].copy()\n",
        "print(ls5.head(6))"
      ],
      "execution_count": 315,
      "outputs": [
        {
          "output_type": "stream",
          "text": [
            "    Age  TotalVotes  PostalVotes\n",
            "0  52.0      377374          482\n",
            "1  54.0      318814          149\n",
            "2  52.0      314238          181\n",
            "3   NaN       13036            6\n",
            "4  58.0      646875         2416\n",
            "5  47.0      435329         1130\n"
          ],
          "name": "stdout"
        }
      ]
    },
    {
      "cell_type": "code",
      "metadata": {
        "colab": {
          "base_uri": "https://localhost:8080/"
        },
        "id": "vZzCFrNAjLVU",
        "outputId": "7d2c71b9-ecad-429a-9bcf-06aac0a126b8"
      },
      "source": [
        "#Checking if there is any null NaN values\n",
        "\n",
        "print(ls5[ls5.isna().any(axis=1)])\n",
        "print(ls5.isna())"
      ],
      "execution_count": 316,
      "outputs": [
        {
          "output_type": "stream",
          "text": [
            "      Age  TotalVotes  PostalVotes\n",
            "3     NaN       13036            6\n",
            "14    NaN       14719          139\n",
            "39    NaN       21175           28\n",
            "46    NaN       15505          194\n",
            "54    NaN       16468           41\n",
            "...   ...         ...          ...\n",
            "2225  NaN       17292          205\n",
            "2230  NaN       16646           20\n",
            "2235  NaN       29501           33\n",
            "2241  NaN       18801           37\n",
            "2262  NaN       11140            2\n",
            "\n",
            "[245 rows x 3 columns]\n",
            "        Age  TotalVotes  PostalVotes\n",
            "0     False       False        False\n",
            "1     False       False        False\n",
            "2     False       False        False\n",
            "3      True       False        False\n",
            "4     False       False        False\n",
            "...     ...         ...          ...\n",
            "2258  False       False        False\n",
            "2259  False       False        False\n",
            "2260  False       False        False\n",
            "2261  False       False        False\n",
            "2262   True       False        False\n",
            "\n",
            "[2263 rows x 3 columns]\n"
          ],
          "name": "stdout"
        }
      ]
    },
    {
      "cell_type": "code",
      "metadata": {
        "colab": {
          "base_uri": "https://localhost:8080/"
        },
        "id": "xQNwe1t8MIKY",
        "outputId": "158a96e5-1168-41b2-bdbf-017afeb7d5a1"
      },
      "source": [
        "#SimpleImputer module usage:\n",
        "#Fill all the null Age values with mean of Age in ls5 using SimpleImputer module.\n",
        "\n",
        "imputer = SimpleImputer(strategy ='mean')\n",
        "imputer = imputer.fit(ls5[['Age']])\n",
        "ls5['Age'] = imputer.transform(ls5[['Age']])\n",
        "\n",
        "print(ls5[['Age']].head(5))\n",
        "print(ls5.head(5))"
      ],
      "execution_count": 317,
      "outputs": [
        {
          "output_type": "stream",
          "text": [
            "         Age\n",
            "0  52.000000\n",
            "1  54.000000\n",
            "2  52.000000\n",
            "3  52.273538\n",
            "4  58.000000\n",
            "         Age  TotalVotes  PostalVotes\n",
            "0  52.000000      377374          482\n",
            "1  54.000000      318814          149\n",
            "2  52.000000      314238          181\n",
            "3  52.273538       13036            6\n",
            "4  58.000000      646875         2416\n"
          ],
          "name": "stdout"
        }
      ]
    },
    {
      "cell_type": "code",
      "metadata": {
        "colab": {
          "base_uri": "https://localhost:8080/"
        },
        "id": "mylxUtvKMIW4",
        "outputId": "d30f00fc-1184-4266-de1d-f21b078ee779"
      },
      "source": [
        "#Checking again if there is any null NaN values\n",
        "\n",
        "print(ls5[ls5.isna().any(axis=1)])\n",
        "print(ls5.isna())"
      ],
      "execution_count": 318,
      "outputs": [
        {
          "output_type": "stream",
          "text": [
            "Empty DataFrame\n",
            "Columns: [Age, TotalVotes, PostalVotes]\n",
            "Index: []\n",
            "        Age  TotalVotes  PostalVotes\n",
            "0     False       False        False\n",
            "1     False       False        False\n",
            "2     False       False        False\n",
            "3     False       False        False\n",
            "4     False       False        False\n",
            "...     ...         ...          ...\n",
            "2258  False       False        False\n",
            "2259  False       False        False\n",
            "2260  False       False        False\n",
            "2261  False       False        False\n",
            "2262  False       False        False\n",
            "\n",
            "[2263 rows x 3 columns]\n"
          ],
          "name": "stdout"
        }
      ]
    },
    {
      "cell_type": "code",
      "metadata": {
        "colab": {
          "base_uri": "https://localhost:8080/"
        },
        "id": "RuBY7X9an7UA",
        "outputId": "e82b2041-12d6-4345-8b1c-9471c5429d9a"
      },
      "source": [
        "#polynomial feature set from ls5 with degree 3. Concatenate the feature set\n",
        "#with ls5 and create a new data frame ls6.\n",
        "\n",
        "polynm = PolynomialFeatures(degree=3)\n",
        "ls6 = pd.DataFrame(polynm.fit_transform(ls5))\n",
        "print(ls6.head(5))\n",
        "ls6 = pd.concat([ls5,ls6])\n",
        "print(ls6.head(5))"
      ],
      "execution_count": 320,
      "outputs": [
        {
          "output_type": "stream",
          "text": [
            "    0          1         2   ...            17            18            19\n",
            "0  1.0  52.000000  377374.0  ...  6.864217e+13  8.767304e+10  1.119802e+08\n",
            "1  1.0  54.000000  318814.0  ...  1.514471e+13  7.077990e+09  3.307949e+06\n",
            "2  1.0  52.000000  314238.0  ...  1.787294e+13  1.029475e+10  5.929741e+06\n",
            "3  1.0  52.273538   13036.0  ...  1.019624e+09  4.692960e+05  2.160000e+02\n",
            "4  1.0  58.000000  646875.0  ...  1.010969e+15  3.775846e+12  1.410233e+10\n",
            "\n",
            "[5 rows x 20 columns]\n",
            "    0   1   2   3   4   5  ...  17  18  19        Age  PostalVotes  TotalVotes\n",
            "0 NaN NaN NaN NaN NaN NaN  ... NaN NaN NaN  52.000000        482.0    377374.0\n",
            "1 NaN NaN NaN NaN NaN NaN  ... NaN NaN NaN  54.000000        149.0    318814.0\n",
            "2 NaN NaN NaN NaN NaN NaN  ... NaN NaN NaN  52.000000        181.0    314238.0\n",
            "3 NaN NaN NaN NaN NaN NaN  ... NaN NaN NaN  52.273538          6.0     13036.0\n",
            "4 NaN NaN NaN NaN NaN NaN  ... NaN NaN NaN  58.000000       2416.0    646875.0\n",
            "\n",
            "[5 rows x 23 columns]\n"
          ],
          "name": "stdout"
        }
      ]
    },
    {
      "cell_type": "code",
      "metadata": {
        "colab": {
          "base_uri": "https://localhost:8080/"
        },
        "id": "idhyav2xocls",
        "outputId": "d9c5fe1c-9257-4f45-8b95-c225ed175e9a"
      },
      "source": [
        "# A new copy of main dataframe\n",
        "\n",
        "ls7 = ls.copy()\n",
        "print(ls7.head(8))"
      ],
      "execution_count": 321,
      "outputs": [
        {
          "output_type": "stream",
          "text": [
            "           State Constituency  ... VotePercent  TotalElectors\n",
            "0      Telangana     ADILABAD  ...   35.468248        1489790\n",
            "1      Telangana     ADILABAD  ...   29.964370        1489790\n",
            "2      Telangana     ADILABAD  ...   29.534285        1489790\n",
            "3      Telangana     ADILABAD  ...    1.225214        1489790\n",
            "4  Uttar Pradesh         AGRA  ...   56.464615        1937690\n",
            "5  Uttar Pradesh         AGRA  ...   37.999125        1937690\n",
            "6  Uttar Pradesh         AGRA  ...    3.940979        1937690\n",
            "7    Maharashtra   AHMADNAGAR  ...   58.425159        1861396\n",
            "\n",
            "[8 rows x 19 columns]\n"
          ],
          "name": "stdout"
        }
      ]
    },
    {
      "cell_type": "code",
      "metadata": {
        "colab": {
          "base_uri": "https://localhost:8080/"
        },
        "id": "sg2y8DKtp0po",
        "outputId": "7bf08c7b-3271-4799-86d6-0e9e8a0efa71"
      },
      "source": [
        "#Checking again if there is any null NaN values\n",
        "\n",
        "ls8 = ls7[['Age']]\n",
        "\n",
        "print(ls8[ls8.isna().any(axis=1)])\n",
        "print(ls8.isna())\n",
        "print(ls8.head(5))"
      ],
      "execution_count": 322,
      "outputs": [
        {
          "output_type": "stream",
          "text": [
            "      Age\n",
            "3     NaN\n",
            "14    NaN\n",
            "39    NaN\n",
            "46    NaN\n",
            "54    NaN\n",
            "...   ...\n",
            "2225  NaN\n",
            "2230  NaN\n",
            "2235  NaN\n",
            "2241  NaN\n",
            "2262  NaN\n",
            "\n",
            "[245 rows x 1 columns]\n",
            "        Age\n",
            "0     False\n",
            "1     False\n",
            "2     False\n",
            "3      True\n",
            "4     False\n",
            "...     ...\n",
            "2258  False\n",
            "2259  False\n",
            "2260  False\n",
            "2261  False\n",
            "2262   True\n",
            "\n",
            "[2263 rows x 1 columns]\n",
            "    Age\n",
            "0  52.0\n",
            "1  54.0\n",
            "2  52.0\n",
            "3   NaN\n",
            "4  58.0\n"
          ],
          "name": "stdout"
        }
      ]
    },
    {
      "cell_type": "code",
      "metadata": {
        "id": "eoqj1d89tJio"
      },
      "source": [
        "# Replace all the null values in Gender and Category columns using the default value\n",
        "#‘Missing’.\n",
        "\n",
        "imputer = SimpleImputer(strategy='constant', fill_value='MISSING')\n",
        "imputer2 = SimpleImputer(strategy='constant', fill_value=0)\n",
        "\n",
        "ls7['Gender'] = imputer.fit_transform(ls7[['Gender']])\n",
        "ls7['Category'] = imputer.fit_transform(ls7[['Category']])\n",
        "ls7['Age'] = imputer2.fit_transform(ls7[['Age']])"
      ],
      "execution_count": 324,
      "outputs": []
    },
    {
      "cell_type": "code",
      "metadata": {
        "colab": {
          "base_uri": "https://localhost:8080/"
        },
        "id": "6YYFhW4UwDTs",
        "outputId": "b461522c-0c9b-465c-9735-a6a9167cb49c"
      },
      "source": [
        "#Checking again if there is any null NaN values\n",
        "\n",
        "ls8 = ls7[['Age']]\n",
        "\n",
        "print(ls8[ls8.isna().any(axis=1)])\n",
        "print(ls8.isna())\n",
        "print(ls8.head(5))"
      ],
      "execution_count": 325,
      "outputs": [
        {
          "output_type": "stream",
          "text": [
            "Empty DataFrame\n",
            "Columns: [Age]\n",
            "Index: []\n",
            "        Age\n",
            "0     False\n",
            "1     False\n",
            "2     False\n",
            "3     False\n",
            "4     False\n",
            "...     ...\n",
            "2258  False\n",
            "2259  False\n",
            "2260  False\n",
            "2261  False\n",
            "2262  False\n",
            "\n",
            "[2263 rows x 1 columns]\n",
            "    Age\n",
            "0  52.0\n",
            "1  54.0\n",
            "2  52.0\n",
            "3   0.0\n",
            "4  58.0\n"
          ],
          "name": "stdout"
        }
      ]
    },
    {
      "cell_type": "code",
      "metadata": {
        "colab": {
          "base_uri": "https://localhost:8080/"
        },
        "id": "GdPoNX29GUTs",
        "outputId": "536f7270-e12a-42cb-af9d-f91863d69cb2"
      },
      "source": [
        "#Again comparing values\n",
        "\n",
        "print(ls7[['Gender']].head(8))\n",
        "print(ls[['Gender']].head(8))"
      ],
      "execution_count": 326,
      "outputs": [
        {
          "output_type": "stream",
          "text": [
            "    Gender\n",
            "0     MALE\n",
            "1     MALE\n",
            "2     MALE\n",
            "3  MISSING\n",
            "4     MALE\n",
            "5     MALE\n",
            "6   FEMALE\n",
            "7     MALE\n",
            "   Gender\n",
            "0    MALE\n",
            "1    MALE\n",
            "2    MALE\n",
            "3     NaN\n",
            "4    MALE\n",
            "5    MALE\n",
            "6  FEMALE\n",
            "7    MALE\n"
          ],
          "name": "stdout"
        }
      ]
    },
    {
      "cell_type": "code",
      "metadata": {
        "id": "DScEXx5YGho0"
      },
      "source": [
        "# Creating ls13 for later concat use\n",
        "\n",
        "ls13 = ls7.copy()"
      ],
      "execution_count": 327,
      "outputs": []
    },
    {
      "cell_type": "code",
      "metadata": {
        "colab": {
          "base_uri": "https://localhost:8080/"
        },
        "id": "zLwfIqcPwyYM",
        "outputId": "54300b43-f75f-4142-940e-88a8c7ecd055"
      },
      "source": [
        "# Ordinal Encoder:\n",
        "\n",
        "enco = OrdinalEncoder()\n",
        "enco.fit(ls7[[\"Gender\"]])\n",
        "ls7[[\"Gender\"]] = enco.transform(ls7[[\"Gender\"]])\n",
        "print(\"operation successful...\")"
      ],
      "execution_count": 328,
      "outputs": [
        {
          "output_type": "stream",
          "text": [
            "operation successful...\n"
          ],
          "name": "stdout"
        }
      ]
    },
    {
      "cell_type": "code",
      "metadata": {
        "colab": {
          "base_uri": "https://localhost:8080/"
        },
        "id": "uzWP7akL2OIc",
        "outputId": "7846dd54-f066-45a9-dc44-e72ff3b3d67e"
      },
      "source": [
        "#Comparing different outputs\n",
        "\n",
        "print(ls7[['Gender']].head(8))\n",
        "print(ls[['Gender']].head(8))"
      ],
      "execution_count": 329,
      "outputs": [
        {
          "output_type": "stream",
          "text": [
            "   Gender\n",
            "0     1.0\n",
            "1     1.0\n",
            "2     1.0\n",
            "3     2.0\n",
            "4     1.0\n",
            "5     1.0\n",
            "6     0.0\n",
            "7     1.0\n",
            "   Gender\n",
            "0    MALE\n",
            "1    MALE\n",
            "2    MALE\n",
            "3     NaN\n",
            "4    MALE\n",
            "5    MALE\n",
            "6  FEMALE\n",
            "7    MALE\n"
          ],
          "name": "stdout"
        }
      ]
    },
    {
      "cell_type": "code",
      "metadata": {
        "colab": {
          "base_uri": "https://localhost:8080/"
        },
        "id": "p6f3_VLa25vE",
        "outputId": "74d010d7-9ae5-4784-828e-b71b8f9baa29"
      },
      "source": [
        "# checking the category column\n",
        "\n",
        "print(ls7[['Category']].head(10))\n",
        "print(ls7[['Gender']].head(10))"
      ],
      "execution_count": 330,
      "outputs": [
        {
          "output_type": "stream",
          "text": [
            "  Category\n",
            "0       ST\n",
            "1       ST\n",
            "2       ST\n",
            "3  MISSING\n",
            "4       SC\n",
            "5       SC\n",
            "6       SC\n",
            "7  GENERAL\n",
            "8  GENERAL\n",
            "9  GENERAL\n",
            "   Gender\n",
            "0     1.0\n",
            "1     1.0\n",
            "2     1.0\n",
            "3     2.0\n",
            "4     1.0\n",
            "5     1.0\n",
            "6     0.0\n",
            "7     1.0\n",
            "8     1.0\n",
            "9     1.0\n"
          ],
          "name": "stdout"
        }
      ]
    },
    {
      "cell_type": "code",
      "metadata": {
        "colab": {
          "base_uri": "https://localhost:8080/"
        },
        "id": "eEwE1P_S5DL8",
        "outputId": "0741d076-ef81-4db9-803a-984336ae70e0"
      },
      "source": [
        "# Applying One-Hot_Encoder\n",
        "\n",
        "ohe = OneHotEncoder()\n",
        "\n",
        "ohe_df = pd.DataFrame(ohe.fit_transform(ls7[['Category']]).toarray())\n",
        "print(ohe_df.head(15))"
      ],
      "execution_count": 331,
      "outputs": [
        {
          "output_type": "stream",
          "text": [
            "      0    1    2    3\n",
            "0   0.0  0.0  0.0  1.0\n",
            "1   0.0  0.0  0.0  1.0\n",
            "2   0.0  0.0  0.0  1.0\n",
            "3   0.0  1.0  0.0  0.0\n",
            "4   0.0  0.0  1.0  0.0\n",
            "5   0.0  0.0  1.0  0.0\n",
            "6   0.0  0.0  1.0  0.0\n",
            "7   1.0  0.0  0.0  0.0\n",
            "8   1.0  0.0  0.0  0.0\n",
            "9   1.0  0.0  0.0  0.0\n",
            "10  1.0  0.0  0.0  0.0\n",
            "11  1.0  0.0  0.0  0.0\n",
            "12  0.0  0.0  1.0  0.0\n",
            "13  0.0  0.0  1.0  0.0\n",
            "14  0.0  1.0  0.0  0.0\n"
          ],
          "name": "stdout"
        }
      ]
    },
    {
      "cell_type": "code",
      "metadata": {
        "colab": {
          "base_uri": "https://localhost:8080/"
        },
        "id": "hxAnjFhy6rmw",
        "outputId": "4c62f0a2-96ce-4ee1-f17f-4d812092e672"
      },
      "source": [
        "#Concat Operation (including major outputs)\n",
        "\n",
        "ls10 = ls[['Gender']] # original column\n",
        "ls13 = ls13[['Gender']] # imputed(missing-tagged) column\n",
        "ls11 = ls7[['Category']] # imputed category column\n",
        "horizontal_stack = pd.concat([ls10, ls13, ls11, ohe_df], axis=1)\n",
        "\n",
        "print(horizontal_stack.head(21))"
      ],
      "execution_count": 332,
      "outputs": [
        {
          "output_type": "stream",
          "text": [
            "    Gender   Gender Category    0    1    2    3\n",
            "0     MALE     MALE       ST  0.0  0.0  0.0  1.0\n",
            "1     MALE     MALE       ST  0.0  0.0  0.0  1.0\n",
            "2     MALE     MALE       ST  0.0  0.0  0.0  1.0\n",
            "3      NaN  MISSING  MISSING  0.0  1.0  0.0  0.0\n",
            "4     MALE     MALE       SC  0.0  0.0  1.0  0.0\n",
            "5     MALE     MALE       SC  0.0  0.0  1.0  0.0\n",
            "6   FEMALE   FEMALE       SC  0.0  0.0  1.0  0.0\n",
            "7     MALE     MALE  GENERAL  1.0  0.0  0.0  0.0\n",
            "8     MALE     MALE  GENERAL  1.0  0.0  0.0  0.0\n",
            "9     MALE     MALE  GENERAL  1.0  0.0  0.0  0.0\n",
            "10    MALE     MALE  GENERAL  1.0  0.0  0.0  0.0\n",
            "11  FEMALE   FEMALE  GENERAL  1.0  0.0  0.0  0.0\n",
            "12    MALE     MALE       SC  0.0  0.0  1.0  0.0\n",
            "13    MALE     MALE       SC  0.0  0.0  1.0  0.0\n",
            "14     NaN  MISSING  MISSING  0.0  1.0  0.0  0.0\n",
            "15    MALE     MALE       SC  0.0  0.0  1.0  0.0\n",
            "16    MALE     MALE  GENERAL  1.0  0.0  0.0  0.0\n",
            "17    MALE     MALE  GENERAL  1.0  0.0  0.0  0.0\n",
            "18    MALE     MALE       SC  0.0  0.0  1.0  0.0\n",
            "19    MALE     MALE       SC  0.0  0.0  1.0  0.0\n",
            "20    MALE     MALE  GENERAL  1.0  0.0  0.0  0.0\n"
          ],
          "name": "stdout"
        }
      ]
    },
    {
      "cell_type": "code",
      "metadata": {
        "id": "7f7ZAuIzD8pc"
      },
      "source": [
        "# THE END\n",
        "# THANK YOU"
      ],
      "execution_count": 334,
      "outputs": []
    }
  ]
}