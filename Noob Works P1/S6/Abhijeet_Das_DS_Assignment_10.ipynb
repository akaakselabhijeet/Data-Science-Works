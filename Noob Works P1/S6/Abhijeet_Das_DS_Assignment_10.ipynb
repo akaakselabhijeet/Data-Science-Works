{
  "nbformat": 4,
  "nbformat_minor": 0,
  "metadata": {
    "colab": {
      "name": "Abhijeet Das - DS Assignment 10.ipynb",
      "provenance": []
    },
    "kernelspec": {
      "name": "python3",
      "display_name": "Python 3"
    },
    "language_info": {
      "name": "python"
    }
  },
  "cells": [
    {
      "cell_type": "code",
      "metadata": {
        "id": "4-3ppd2vKCPo"
      },
      "source": [
        "# import libraries\n",
        "\n",
        "import pandas as pd\n",
        "from sklearn.model_selection import train_test_split\n",
        "from sklearn.preprocessing import StandardScaler\n",
        "from sklearn.neighbors import KNeighborsClassifier\n",
        "from sklearn import metrics"
      ],
      "execution_count": 41,
      "outputs": []
    },
    {
      "cell_type": "code",
      "metadata": {
        "colab": {
          "base_uri": "https://localhost:8080/"
        },
        "id": "nfGzJayJLESM",
        "outputId": "f71985c5-bdb7-4825-a3d0-f105ca9d659d"
      },
      "source": [
        "# import data from url\n",
        "\n",
        "url = 'https://raw.githubusercontent.com/akaakselabhijeet/Data-Science-Datasets-Ver.01/main/Health/FILE_heart.csv'\n",
        "heart = pd.read_csv(url)\n",
        "\n",
        "print(heart.tail(6))"
      ],
      "execution_count": 42,
      "outputs": [
        {
          "output_type": "stream",
          "text": [
            "     age  sex  cp  trestbps  chol  fbs  ...  exang  oldpeak  slope  ca  thal  target\n",
            "297   59    1   0       164   176    1  ...      0      1.0      1   2     1       0\n",
            "298   57    0   0       140   241    0  ...      1      0.2      1   0     3       0\n",
            "299   45    1   3       110   264    0  ...      0      1.2      1   0     3       0\n",
            "300   68    1   0       144   193    1  ...      0      3.4      1   2     3       0\n",
            "301   57    1   0       130   131    0  ...      1      1.2      1   1     3       0\n",
            "302   57    0   1       130   236    0  ...      0      0.0      1   1     2       0\n",
            "\n",
            "[6 rows x 14 columns]\n"
          ],
          "name": "stdout"
        }
      ]
    },
    {
      "cell_type": "code",
      "metadata": {
        "colab": {
          "base_uri": "https://localhost:8080/"
        },
        "id": "tc3l9wh6O6mQ",
        "outputId": "58c73992-cfd6-4977-c3a3-b2eeabcccf44"
      },
      "source": [
        "# seperate heart_features & heart_target\n",
        "\n",
        "heart_feature = heart.iloc[:,0:13]\n",
        "print(heart_feature.head(6))"
      ],
      "execution_count": 43,
      "outputs": [
        {
          "output_type": "stream",
          "text": [
            "   age  sex  cp  trestbps  chol  fbs  ...  thalach  exang  oldpeak  slope  ca  thal\n",
            "0   63    1   3       145   233    1  ...      150      0      2.3      0   0     1\n",
            "1   37    1   2       130   250    0  ...      187      0      3.5      0   0     2\n",
            "2   41    0   1       130   204    0  ...      172      0      1.4      2   0     2\n",
            "3   56    1   1       120   236    0  ...      178      0      0.8      2   0     2\n",
            "4   57    0   0       120   354    0  ...      163      1      0.6      2   0     2\n",
            "5   57    1   0       140   192    0  ...      148      0      0.4      1   0     1\n",
            "\n",
            "[6 rows x 13 columns]\n"
          ],
          "name": "stdout"
        }
      ]
    },
    {
      "cell_type": "code",
      "metadata": {
        "colab": {
          "base_uri": "https://localhost:8080/"
        },
        "id": "Cd92sWY6PgqM",
        "outputId": "ee60a340-1137-4b72-fdfe-5817517a14e6"
      },
      "source": [
        "heart_target = heart.iloc[:,13]\n",
        "print(heart_target.head(6))"
      ],
      "execution_count": 44,
      "outputs": [
        {
          "output_type": "stream",
          "text": [
            "0    1\n",
            "1    1\n",
            "2    1\n",
            "3    1\n",
            "4    1\n",
            "5    1\n",
            "Name: target, dtype: int64\n"
          ],
          "name": "stdout"
        }
      ]
    },
    {
      "cell_type": "code",
      "metadata": {
        "id": "VDsqgEhMP1Ec"
      },
      "source": [
        "# split dataset in 0.25 test and 0.75 train\n",
        "\n",
        "feature_train, feature_test, target_train, target_test = train_test_split(heart_feature, heart_target, test_size=0.25, train_size=0.75)\n"
      ],
      "execution_count": 48,
      "outputs": []
    },
    {
      "cell_type": "code",
      "metadata": {
        "colab": {
          "base_uri": "https://localhost:8080/"
        },
        "id": "aa-h0CqLQlbw",
        "outputId": "a95a62a6-cbb1-459d-9508-440f96eb3fc5"
      },
      "source": [
        "# standard scaler method application\n",
        "\n",
        "obj = StandardScaler()\n",
        "train_standardization = obj.fit_transform(feature_train)\n",
        "print(train_standardization[0:7])"
      ],
      "execution_count": 49,
      "outputs": [
        {
          "output_type": "stream",
          "text": [
            "[[ 1.32415907 -1.43790388 -0.95079097  2.77831573 -0.36432678  2.46855221\n",
            "   0.9699242   0.68823338  1.45244244  0.01438117 -0.71965503  1.23960494\n",
            "   1.15626574]\n",
            " [-0.03749035  0.69545678  1.02025515 -0.35086575  0.47861728 -0.40509575\n",
            "  -0.99590432  0.10377965 -0.68849544 -0.41516162 -2.38661108  0.25915086\n",
            "  -0.53710409]\n",
            " [ 0.64333436  0.69545678 -0.95079097 -0.05565995  0.10397548 -0.40509575\n",
            "   0.9699242  -0.25588418  1.45244244  0.3580154   0.94730101  0.25915086\n",
            "   1.15626574]\n",
            " [ 0.64333436 -1.43790388 -0.95079097  1.12516325  0.19763593 -0.40509575\n",
            "  -0.99590432  0.32856955 -0.68849544  1.38891811 -0.71965503  1.23960494\n",
            "   1.15626574]\n",
            " [-1.51261055  0.69545678  1.02025515 -1.11840083  0.04777921 -0.40509575\n",
            "   0.9699242   1.31764509 -0.68849544 -0.84470442  0.94730101 -0.72130322\n",
            "  -0.53710409]\n",
            " [ 0.18945122  0.69545678  2.00577821 -0.64607155 -1.01994993 -0.40509575\n",
            "  -0.99590432  0.55335944 -0.68849544  0.7875582  -0.71965503 -0.72130322\n",
            "   1.15626574]\n",
            " [-0.26443192  0.69545678  0.03473209  0.18050469 -0.87009321 -0.40509575\n",
            "   0.9699242   0.37352753 -0.68849544 -0.15743595  0.94730101  0.25915086\n",
            "  -0.53710409]]\n"
          ],
          "name": "stdout"
        }
      ]
    },
    {
      "cell_type": "code",
      "metadata": {
        "colab": {
          "base_uri": "https://localhost:8080/"
        },
        "id": "IKE7ot8rRLck",
        "outputId": "618352d0-17cd-4d5e-cfde-c5e00e920078"
      },
      "source": [
        "test_standardization = obj.fit_transform(feature_test)\n",
        "print(test_standardization[0:3])"
      ],
      "execution_count": 50,
      "outputs": [
        {
          "output_type": "stream",
          "text": [
            "[[ 0.8712322   0.63828474  1.88365993  0.59787863 -0.2098958   2.20139816\n",
            "  -1.0459461   0.0197601  -0.72111026  0.96830821 -2.00625306 -0.69413557\n",
            "  -1.94642189]\n",
            " [ 0.46250598  0.63828474  1.88365993  2.33741413  0.58878753 -0.45425676\n",
            "  -1.0459461  -0.18318147 -0.72111026  2.65293117 -2.00625306 -0.69413557\n",
            "   1.04202384]\n",
            " [-0.96803578 -1.5666989   0.02446312 -0.19281933 -0.18830976 -0.45425676\n",
            "  -1.0459461   1.03446795 -0.72111026 -0.53898602 -0.4660992  -0.69413557\n",
            "  -0.45219903]]\n"
          ],
          "name": "stdout"
        }
      ]
    },
    {
      "cell_type": "code",
      "metadata": {
        "colab": {
          "base_uri": "https://localhost:8080/"
        },
        "id": "KR5S0JdjRk3I",
        "outputId": "c67bd70e-c019-42ec-beaf-4fe2bbf2c92f"
      },
      "source": [
        "# use KNN classifier\n",
        "\n",
        "classifier = KNeighborsClassifier(n_neighbors=5, metric='minkowski', p=2)\n",
        "classifier = classifier.fit(feature_train, target_train)\n",
        "print(classifier.predict(feature_test))"
      ],
      "execution_count": 51,
      "outputs": [
        {
          "output_type": "stream",
          "text": [
            "[1 0 1 0 1 0 1 0 1 0 0 0 1 1 1 0 0 1 0 0 1 1 1 1 0 1 1 0 1 0 1 1 1 0 1 1 0\n",
            " 0 0 1 1 1 0 1 1 1 1 0 1 1 1 1 0 1 1 0 0 1 1 0 1 1 1 0 1 0 0 1 1 0 1 1 1 0\n",
            " 1 0]\n"
          ],
          "name": "stdout"
        }
      ]
    },
    {
      "cell_type": "code",
      "metadata": {
        "colab": {
          "base_uri": "https://localhost:8080/"
        },
        "id": "FveW8Q4ySnok",
        "outputId": "9c3f4d2a-278c-4bfd-a8b9-ddc8c3777e7b"
      },
      "source": [
        "# derive accuracy scores\n",
        "\n",
        "predicted_heart_target = classifier.predict(heart_feature)\n",
        "print(predicted_heart_target[0:10])"
      ],
      "execution_count": 52,
      "outputs": [
        {
          "output_type": "stream",
          "text": [
            "[1 1 1 1 0 0 1 1 0 1]\n"
          ],
          "name": "stdout"
        }
      ]
    },
    {
      "cell_type": "code",
      "metadata": {
        "colab": {
          "base_uri": "https://localhost:8080/"
        },
        "id": "DsLrJzPLTDOM",
        "outputId": "5deff002-438e-4cda-b97f-d2513789397f"
      },
      "source": [
        "accuracy = metrics.accuracy_score(heart_target, predicted_heart_target)\n",
        "print(accuracy)"
      ],
      "execution_count": 53,
      "outputs": [
        {
          "output_type": "stream",
          "text": [
            "0.7095709570957096\n"
          ],
          "name": "stdout"
        }
      ]
    },
    {
      "cell_type": "code",
      "metadata": {
        "colab": {
          "base_uri": "https://localhost:8080/"
        },
        "id": "M2KjyBobTVJE",
        "outputId": "b5a38a65-a451-4333-e0dd-88b8cf4afaf6"
      },
      "source": [
        "classifier = KNeighborsClassifier(n_neighbors=4, metric='minkowski', p=2)\n",
        "classifier = classifier.fit(feature_train, target_train)\n",
        "predicted_heart_target = classifier.predict(heart_feature)\n",
        "accuracy = metrics.accuracy_score(heart_target, predicted_heart_target)\n",
        "print(accuracy)"
      ],
      "execution_count": 54,
      "outputs": [
        {
          "output_type": "stream",
          "text": [
            "0.7095709570957096\n"
          ],
          "name": "stdout"
        }
      ]
    },
    {
      "cell_type": "code",
      "metadata": {
        "colab": {
          "base_uri": "https://localhost:8080/"
        },
        "id": "825ZGi9pUGMI",
        "outputId": "7f478047-0e7f-418f-a489-45b5dd86b46c"
      },
      "source": [
        "classifier = KNeighborsClassifier(n_neighbors=5, metric='minkowski', p=2)\n",
        "classifier = classifier.fit(feature_train, target_train)\n",
        "predicted_heart_target = classifier.predict(heart_feature)\n",
        "accuracy = metrics.accuracy_score(heart_target, predicted_heart_target)\n",
        "print(accuracy)"
      ],
      "execution_count": 55,
      "outputs": [
        {
          "output_type": "stream",
          "text": [
            "0.7095709570957096\n"
          ],
          "name": "stdout"
        }
      ]
    },
    {
      "cell_type": "code",
      "metadata": {
        "colab": {
          "base_uri": "https://localhost:8080/"
        },
        "id": "75K3eTp_URB4",
        "outputId": "d0f80871-8254-4593-e0c4-4b6f53e2626f"
      },
      "source": [
        "classifier = KNeighborsClassifier(n_neighbors=6, metric='minkowski', p=2)\n",
        "classifier = classifier.fit(feature_train, target_train)\n",
        "predicted_heart_target = classifier.predict(heart_feature)\n",
        "accuracy = metrics.accuracy_score(heart_target, predicted_heart_target)\n",
        "print(accuracy)"
      ],
      "execution_count": 56,
      "outputs": [
        {
          "output_type": "stream",
          "text": [
            "0.7029702970297029\n"
          ],
          "name": "stdout"
        }
      ]
    },
    {
      "cell_type": "code",
      "metadata": {
        "colab": {
          "base_uri": "https://localhost:8080/"
        },
        "id": "_3x5NfDnUZ9w",
        "outputId": "7d6eadcc-a1d1-42a7-956f-ec55f8856e3c"
      },
      "source": [
        "classifier = KNeighborsClassifier(n_neighbors=7, metric='minkowski', p=2)\n",
        "classifier = classifier.fit(feature_train, target_train)\n",
        "predicted_heart_target = classifier.predict(heart_feature)\n",
        "accuracy = metrics.accuracy_score(heart_target, predicted_heart_target)\n",
        "print(accuracy)"
      ],
      "execution_count": 57,
      "outputs": [
        {
          "output_type": "stream",
          "text": [
            "0.6996699669966997\n"
          ],
          "name": "stdout"
        }
      ]
    },
    {
      "cell_type": "code",
      "metadata": {
        "id": "qeGb4KTLXOXE"
      },
      "source": [
        "# THE END\n",
        "# Abhijeet Das - DS Assignment 10"
      ],
      "execution_count": 58,
      "outputs": []
    }
  ]
}