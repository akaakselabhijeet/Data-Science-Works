{
  "nbformat": 4,
  "nbformat_minor": 0,
  "metadata": {
    "colab": {
      "name": "Abhijeet Das - DS Lab Assignment8.ipynb",
      "provenance": [],
      "collapsed_sections": []
    },
    "kernelspec": {
      "name": "python3",
      "display_name": "Python 3"
    },
    "language_info": {
      "name": "python"
    }
  },
  "cells": [
    {
      "cell_type": "code",
      "metadata": {
        "id": "IDMzQEL4BH2M"
      },
      "source": [
        "# importing libs\n",
        "\n",
        "import pandas as pd\n",
        "import numpy as np\n",
        "from sklearn.preprocessing import KBinsDiscretizer\n",
        "from sklearn.preprocessing import Binarizer\n",
        "from sklearn.model_selection import train_test_split\n",
        "from sklearn.preprocessing import RobustScaler\n",
        "from sklearn.preprocessing import Normalizer"
      ],
      "execution_count": 112,
      "outputs": []
    },
    {
      "cell_type": "code",
      "metadata": {
        "colab": {
          "base_uri": "https://localhost:8080/"
        },
        "id": "QdatZ_BWB4SM",
        "outputId": "8d78ee30-6cf3-459c-c766-c39ef027e2fc"
      },
      "source": [
        "# importing data from URL\n",
        "\n",
        "url = 'https://raw.githubusercontent.com/akaakselabhijeet/Data-Science-Datasets-Ver.01/main/India_Data/India%20Election%20Dataset%201.csv'\n",
        "ls = pd.read_csv(url)\n",
        "print(ls.head(5))\n",
        "ls.info()"
      ],
      "execution_count": 113,
      "outputs": [
        {
          "output_type": "stream",
          "text": [
            "           State Constituency  ... VotePercent  TotalElectors\n",
            "0      Telangana     ADILABAD  ...   35.468248        1489790\n",
            "1      Telangana     ADILABAD  ...   29.964370        1489790\n",
            "2      Telangana     ADILABAD  ...   29.534285        1489790\n",
            "3      Telangana     ADILABAD  ...    1.225214        1489790\n",
            "4  Uttar Pradesh         AGRA  ...   56.464615        1937690\n",
            "\n",
            "[5 rows x 19 columns]\n",
            "<class 'pandas.core.frame.DataFrame'>\n",
            "RangeIndex: 2263 entries, 0 to 2262\n",
            "Data columns (total 19 columns):\n",
            " #   Column           Non-Null Count  Dtype  \n",
            "---  ------           --------------  -----  \n",
            " 0   State            2263 non-null   object \n",
            " 1   Constituency     2263 non-null   object \n",
            " 2   Name             2263 non-null   object \n",
            " 3   Winner           2263 non-null   int64  \n",
            " 4   Party            2263 non-null   object \n",
            " 5   Symbol           2018 non-null   object \n",
            " 6   Gender           2018 non-null   object \n",
            " 7   CriminalCases    2018 non-null   object \n",
            " 8   Age              2018 non-null   float64\n",
            " 9   Category         2018 non-null   object \n",
            " 10  Education        2018 non-null   object \n",
            " 11  Assets           2018 non-null   object \n",
            " 12  Liabilities      2018 non-null   object \n",
            " 13  GenVotes         2263 non-null   int64  \n",
            " 14  PostalVotes      2263 non-null   int64  \n",
            " 15  TotalVotes       2263 non-null   int64  \n",
            " 16  ElectorsPercent  2263 non-null   float64\n",
            " 17  VotePercent      2263 non-null   float64\n",
            " 18  TotalElectors    2263 non-null   int64  \n",
            "dtypes: float64(3), int64(5), object(11)\n",
            "memory usage: 336.0+ KB\n"
          ],
          "name": "stdout"
        }
      ]
    },
    {
      "cell_type": "code",
      "metadata": {
        "colab": {
          "base_uri": "https://localhost:8080/"
        },
        "id": "4oEN6uxeClD0",
        "outputId": "d08c83cf-ceec-4b56-f2bb-921a7ada8f6a"
      },
      "source": [
        "# make a clone\n",
        "\n",
        "ls1 = ls.copy()\n",
        "print(ls1.head(4))"
      ],
      "execution_count": 114,
      "outputs": [
        {
          "output_type": "stream",
          "text": [
            "       State Constituency  ... VotePercent  TotalElectors\n",
            "0  Telangana     ADILABAD  ...   35.468248        1489790\n",
            "1  Telangana     ADILABAD  ...   29.964370        1489790\n",
            "2  Telangana     ADILABAD  ...   29.534285        1489790\n",
            "3  Telangana     ADILABAD  ...    1.225214        1489790\n",
            "\n",
            "[4 rows x 19 columns]\n"
          ],
          "name": "stdout"
        }
      ]
    },
    {
      "cell_type": "code",
      "metadata": {
        "colab": {
          "base_uri": "https://localhost:8080/"
        },
        "id": "8XW3s22YC8G0",
        "outputId": "c5629e9d-1b47-4bd8-e0a8-45fad9636890"
      },
      "source": [
        "# Applying discretizer on GenVotes\n",
        "\n",
        "discretizer = KBinsDiscretizer()\n",
        "discretizer = discretizer.fit_transform(ls1['GenVotes'].values.reshape(-1,1))\n",
        "print(discretizer)"
      ],
      "execution_count": 115,
      "outputs": [
        {
          "output_type": "stream",
          "text": [
            "  (0, 3)\t1.0\n",
            "  (1, 2)\t1.0\n",
            "  (2, 2)\t1.0\n",
            "  (3, 0)\t1.0\n",
            "  (4, 4)\t1.0\n",
            "  (5, 3)\t1.0\n",
            "  (6, 1)\t1.0\n",
            "  (7, 4)\t1.0\n",
            "  (8, 3)\t1.0\n",
            "  (9, 1)\t1.0\n",
            "  (10, 4)\t1.0\n",
            "  (11, 2)\t1.0\n",
            "  (12, 4)\t1.0\n",
            "  (13, 2)\t1.0\n",
            "  (14, 0)\t1.0\n",
            "  (15, 0)\t1.0\n",
            "  (16, 4)\t1.0\n",
            "  (17, 3)\t1.0\n",
            "  (18, 0)\t1.0\n",
            "  (19, 0)\t1.0\n",
            "  (20, 4)\t1.0\n",
            "  (21, 2)\t1.0\n",
            "  (22, 2)\t1.0\n",
            "  (23, 4)\t1.0\n",
            "  (24, 2)\t1.0\n",
            "  :\t:\n",
            "  (2238, 2)\t1.0\n",
            "  (2239, 2)\t1.0\n",
            "  (2240, 1)\t1.0\n",
            "  (2241, 1)\t1.0\n",
            "  (2242, 0)\t1.0\n",
            "  (2243, 4)\t1.0\n",
            "  (2244, 3)\t1.0\n",
            "  (2245, 1)\t1.0\n",
            "  (2246, 1)\t1.0\n",
            "  (2247, 4)\t1.0\n",
            "  (2248, 2)\t1.0\n",
            "  (2249, 2)\t1.0\n",
            "  (2250, 4)\t1.0\n",
            "  (2251, 2)\t1.0\n",
            "  (2252, 2)\t1.0\n",
            "  (2253, 4)\t1.0\n",
            "  (2254, 3)\t1.0\n",
            "  (2255, 2)\t1.0\n",
            "  (2256, 1)\t1.0\n",
            "  (2257, 1)\t1.0\n",
            "  (2258, 0)\t1.0\n",
            "  (2259, 3)\t1.0\n",
            "  (2260, 3)\t1.0\n",
            "  (2261, 2)\t1.0\n",
            "  (2262, 0)\t1.0\n"
          ],
          "name": "stdout"
        }
      ]
    },
    {
      "cell_type": "code",
      "metadata": {
        "colab": {
          "base_uri": "https://localhost:8080/"
        },
        "id": "c1fAEiZ9D03o",
        "outputId": "13804d43-16e7-40ca-a597-b8edcacfa51b"
      },
      "source": [
        "# To_Array\n",
        "\n",
        "disc1 = pd.DataFrame(discretizer.toarray(), columns=['binary_'+str(i) for i in range(1, 6)])\n",
        "print(disc1.head(6))\n",
        "disc1.info()"
      ],
      "execution_count": 116,
      "outputs": [
        {
          "output_type": "stream",
          "text": [
            "   binary_1  binary_2  binary_3  binary_4  binary_5\n",
            "0       0.0       0.0       0.0       1.0       0.0\n",
            "1       0.0       0.0       1.0       0.0       0.0\n",
            "2       0.0       0.0       1.0       0.0       0.0\n",
            "3       1.0       0.0       0.0       0.0       0.0\n",
            "4       0.0       0.0       0.0       0.0       1.0\n",
            "5       0.0       0.0       0.0       1.0       0.0\n",
            "<class 'pandas.core.frame.DataFrame'>\n",
            "RangeIndex: 2263 entries, 0 to 2262\n",
            "Data columns (total 5 columns):\n",
            " #   Column    Non-Null Count  Dtype  \n",
            "---  ------    --------------  -----  \n",
            " 0   binary_1  2263 non-null   float64\n",
            " 1   binary_2  2263 non-null   float64\n",
            " 2   binary_3  2263 non-null   float64\n",
            " 3   binary_4  2263 non-null   float64\n",
            " 4   binary_5  2263 non-null   float64\n",
            "dtypes: float64(5)\n",
            "memory usage: 88.5 KB\n"
          ],
          "name": "stdout"
        }
      ]
    },
    {
      "cell_type": "code",
      "metadata": {
        "colab": {
          "base_uri": "https://localhost:8080/"
        },
        "id": "whnp_4lEFBxg",
        "outputId": "c15a4b82-c53e-4139-b35a-c8a8caaa8f69"
      },
      "source": [
        "# Implementing Binarizer\n",
        "\n",
        "binarizer = Binarizer(threshold = 30000)\n",
        "binarizer = binarizer.fit_transform(ls1['TotalVotes'].values.reshape(-1,1))\n",
        "print(binarizer)"
      ],
      "execution_count": 117,
      "outputs": [
        {
          "output_type": "stream",
          "text": [
            "[[1]\n",
            " [1]\n",
            " [1]\n",
            " ...\n",
            " [1]\n",
            " [1]\n",
            " [0]]\n"
          ],
          "name": "stdout"
        }
      ]
    },
    {
      "cell_type": "code",
      "metadata": {
        "colab": {
          "base_uri": "https://localhost:8080/"
        },
        "id": "_otd7IYKFvc8",
        "outputId": "0a9818f0-fe0a-4b9e-f8d8-c31463c72ada"
      },
      "source": [
        "# new_dataframe\n",
        "\n",
        "bin2 = pd.DataFrame(binarizer, columns=['TotalVotesBin'])\n",
        "print(bin2.head(4))\n",
        "print(bin2.tail(4))"
      ],
      "execution_count": 118,
      "outputs": [
        {
          "output_type": "stream",
          "text": [
            "   TotalVotesBin\n",
            "0              1\n",
            "1              1\n",
            "2              1\n",
            "3              0\n",
            "      TotalVotesBin\n",
            "2259              1\n",
            "2260              1\n",
            "2261              1\n",
            "2262              0\n"
          ],
          "name": "stdout"
        }
      ]
    },
    {
      "cell_type": "code",
      "metadata": {
        "colab": {
          "base_uri": "https://localhost:8080/"
        },
        "id": "28SMDulNHBiE",
        "outputId": "d72dca93-8ac7-4eb1-da41-9a2eacff4424"
      },
      "source": [
        "# concat function on disc1, bin2, ls1\n",
        "\n",
        "ls2 = pd.concat([disc1, bin2, ls1], axis=1)\n",
        "print(ls2.head(6))"
      ],
      "execution_count": 119,
      "outputs": [
        {
          "output_type": "stream",
          "text": [
            "   binary_1  binary_2  binary_3  ...  ElectorsPercent  VotePercent  TotalElectors\n",
            "0       0.0       0.0       0.0  ...        25.330684    35.468248        1489790\n",
            "1       0.0       0.0       1.0  ...        21.399929    29.964370        1489790\n",
            "2       0.0       0.0       1.0  ...        21.092771    29.534285        1489790\n",
            "3       1.0       0.0       0.0  ...         0.875023     1.225214        1489790\n",
            "4       0.0       0.0       0.0  ...        33.383823    56.464615        1937690\n",
            "5       0.0       0.0       0.0  ...        22.466390    37.999125        1937690\n",
            "\n",
            "[6 rows x 25 columns]\n"
          ],
          "name": "stdout"
        }
      ]
    },
    {
      "cell_type": "code",
      "metadata": {
        "colab": {
          "base_uri": "https://localhost:8080/"
        },
        "id": "RclSIkUIHqOw",
        "outputId": "2b201025-d8c5-43ff-8bdb-8f0fc908e97f"
      },
      "source": [
        "# Dataframe without 'Winner'\n",
        "\n",
        "a1 = ls2.drop('Winner', axis=1)\n",
        "print(a1.head(6))"
      ],
      "execution_count": 120,
      "outputs": [
        {
          "output_type": "stream",
          "text": [
            "   binary_1  binary_2  binary_3  ...  ElectorsPercent  VotePercent  TotalElectors\n",
            "0       0.0       0.0       0.0  ...        25.330684    35.468248        1489790\n",
            "1       0.0       0.0       1.0  ...        21.399929    29.964370        1489790\n",
            "2       0.0       0.0       1.0  ...        21.092771    29.534285        1489790\n",
            "3       1.0       0.0       0.0  ...         0.875023     1.225214        1489790\n",
            "4       0.0       0.0       0.0  ...        33.383823    56.464615        1937690\n",
            "5       0.0       0.0       0.0  ...        22.466390    37.999125        1937690\n",
            "\n",
            "[6 rows x 24 columns]\n"
          ],
          "name": "stdout"
        }
      ]
    },
    {
      "cell_type": "code",
      "metadata": {
        "colab": {
          "base_uri": "https://localhost:8080/"
        },
        "id": "kNID3AyGNfLg",
        "outputId": "b3c4f62f-706f-4882-b51e-5028e4a6154a"
      },
      "source": [
        "# Dataframe with 'Winner'\n",
        "\n",
        "a2 = pd.DataFrame(ls2['Winner'])\n",
        "print(a2.tail(6))"
      ],
      "execution_count": 121,
      "outputs": [
        {
          "output_type": "stream",
          "text": [
            "      Winner\n",
            "2257       0\n",
            "2258       0\n",
            "2259       1\n",
            "2260       0\n",
            "2261       0\n",
            "2262       0\n"
          ],
          "name": "stdout"
        }
      ]
    },
    {
      "cell_type": "code",
      "metadata": {
        "colab": {
          "base_uri": "https://localhost:8080/"
        },
        "id": "zG3rsx8kNyOQ",
        "outputId": "3e473b94-50ce-424f-8208-7bcb22694ef4"
      },
      "source": [
        "# Splitting the data in a1 and a2 in training and test data using train_test_split\n",
        "\n",
        "X_train, X_test, y_train, y_test = train_test_split(a1, a2, test_size=0.15)\n",
        "print(\"operation successful!\")"
      ],
      "execution_count": 122,
      "outputs": [
        {
          "output_type": "stream",
          "text": [
            "operation successful!\n"
          ],
          "name": "stdout"
        }
      ]
    },
    {
      "cell_type": "code",
      "metadata": {
        "colab": {
          "base_uri": "https://localhost:8080/"
        },
        "id": "b5doHAsMOcuk",
        "outputId": "7501e4d1-5c52-4c94-9eee-0bbf5535bbcb"
      },
      "source": [
        "# Implementing Standardization with RobustScaler\n",
        "\n",
        "rscaler = RobustScaler(quantile_range=(0.25, 0.75))\n",
        "rscaler = rscaler.fit_transform(a1['Age'].values.reshape(-1, 1))\n",
        "print(rscaler)"
      ],
      "execution_count": 123,
      "outputs": [
        {
          "output_type": "stream",
          "text": [
            "[[ 0.        ]\n",
            " [ 1.84331797]\n",
            " [ 0.        ]\n",
            " ...\n",
            " [-2.76497696]\n",
            " [-4.60829493]\n",
            " [        nan]]\n"
          ],
          "name": "stdout"
        }
      ]
    },
    {
      "cell_type": "code",
      "metadata": {
        "colab": {
          "base_uri": "https://localhost:8080/"
        },
        "id": "cpMk09REPehg",
        "outputId": "08bd6460-05a3-486d-b90c-2f2c4cdfe84d"
      },
      "source": [
        "# result data into dataframe scaler1\n",
        "\n",
        "scaler1 = pd.DataFrame(rscaler, columns=['Scaled_Age'])\n",
        "print(scaler1.head(6))"
      ],
      "execution_count": 124,
      "outputs": [
        {
          "output_type": "stream",
          "text": [
            "   Scaled_Age\n",
            "0    0.000000\n",
            "1    1.843318\n",
            "2    0.000000\n",
            "3         NaN\n",
            "4    5.529954\n",
            "5   -4.608295\n"
          ],
          "name": "stdout"
        }
      ]
    },
    {
      "cell_type": "code",
      "metadata": {
        "colab": {
          "base_uri": "https://localhost:8080/"
        },
        "id": "W7jn8DZoP4D4",
        "outputId": "4ce8c12e-46a3-4a84-b908-fed9a8138497"
      },
      "source": [
        "# a2 copy with selected clone\n",
        "\n",
        "a2 = a1[['GenVotes', 'PostalVotes', 'TotalVotes']].copy()\n",
        "print(a2.head(6))"
      ],
      "execution_count": 125,
      "outputs": [
        {
          "output_type": "stream",
          "text": [
            "   GenVotes  PostalVotes  TotalVotes\n",
            "0    376892          482      377374\n",
            "1    318665          149      318814\n",
            "2    314057          181      314238\n",
            "3     13030            6       13036\n",
            "4    644459         2416      646875\n",
            "5    434199         1130      435329\n"
          ],
          "name": "stdout"
        }
      ]
    },
    {
      "cell_type": "code",
      "metadata": {
        "colab": {
          "base_uri": "https://localhost:8080/"
        },
        "id": "bFKlTzCvQQR4",
        "outputId": "da986cfd-1f45-4e2f-ae88-ef965ddd341f"
      },
      "source": [
        "# Implementing Normalization with Normalizer(norm='max') on a2\n",
        "\n",
        "normalizer = Normalizer(norm='max')\n",
        "normalizer = normalizer.fit_transform(a2)\n",
        "print(normalizer)"
      ],
      "execution_count": 126,
      "outputs": [
        {
          "output_type": "stream",
          "text": [
            "[[9.98722752e-01 1.27724751e-03 1.00000000e+00]\n",
            " [9.99532643e-01 4.67357142e-04 1.00000000e+00]\n",
            " [9.99424003e-01 5.75996538e-04 1.00000000e+00]\n",
            " ...\n",
            " [9.99731318e-01 2.68682172e-04 1.00000000e+00]\n",
            " [9.98445450e-01 1.55454958e-03 1.00000000e+00]\n",
            " [9.99820467e-01 1.79533214e-04 1.00000000e+00]]\n"
          ],
          "name": "stdout"
        }
      ]
    },
    {
      "cell_type": "code",
      "metadata": {
        "colab": {
          "base_uri": "https://localhost:8080/"
        },
        "id": "lNyaOWoNRG8U",
        "outputId": "811d4db4-0937-4bd6-bd8a-1213cf0b3954"
      },
      "source": [
        "# result data in dataframe 'normal2'\n",
        "\n",
        "normal2 = pd.DataFrame(normalizer, columns=a2.columns)\n",
        "print(normal2.head(8))"
      ],
      "execution_count": 127,
      "outputs": [
        {
          "output_type": "stream",
          "text": [
            "   GenVotes  PostalVotes  TotalVotes\n",
            "0  0.998723     0.001277         1.0\n",
            "1  0.999533     0.000467         1.0\n",
            "2  0.999424     0.000576         1.0\n",
            "3  0.999540     0.000460         1.0\n",
            "4  0.996265     0.003735         1.0\n",
            "5  0.997404     0.002596         1.0\n",
            "6  0.993976     0.006024         1.0\n",
            "7  0.989074     0.010926         1.0\n"
          ],
          "name": "stdout"
        }
      ]
    },
    {
      "cell_type": "code",
      "metadata": {
        "id": "N9HYTWG3RU4g"
      },
      "source": [
        "# THE END\n",
        "# Abhijeet Das - DS Assignment 8"
      ],
      "execution_count": 128,
      "outputs": []
    }
  ]
}